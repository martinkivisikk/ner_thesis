{
  "nbformat": 4,
  "nbformat_minor": 0,
  "metadata": {
    "colab": {
      "provenance": [],
      "gpuType": "T4"
    },
    "kernelspec": {
      "name": "python3",
      "display_name": "Python 3"
    },
    "language_info": {
      "name": "python"
    },
    "accelerator": "GPU"
  },
  "cells": [
    {
      "cell_type": "code",
      "execution_count": null,
      "metadata": {
        "id": "C7Wupx258jHm",
        "collapsed": true
      },
      "outputs": [],
      "source": [
        "# Colabis kasutamiseks\n",
        "from google.colab import drive\n",
        "drive.mount('/content/drive')\n",
        "import os\n",
        "os.chdir('/content/drive/My Drive/Colab Notebooks/thesis/')\n",
        "\n",
        "!pip install estnltk==1.7.4\n",
        "!pip install evaluate\n",
        "!pip install seqeval\n",
        "!pip install nervaluate"
      ]
    },
    {
      "cell_type": "code",
      "source": [
        "from modules.data_processing import DatasetProcessor\n",
        "from modules.bert_data_processing import BERTDataProcessor\n",
        "from modules.bert_evaluator import BERTEvaluator\n",
        "ALL_TAGS = DatasetProcessor.ALL_TAGS\n",
        "TAG2IDX = DatasetProcessor.TAG2IDX\n",
        "IDX2TAG = DatasetProcessor.IDX2TAG\n",
        "from transformers import BertForTokenClassification, Trainer, TrainingArguments, AutoModelForTokenClassification\n",
        "import json\n",
        "from datasets import Dataset"
      ],
      "metadata": {
        "id": "JLZS7mzV8pwD",
        "collapsed": true
      },
      "execution_count": null,
      "outputs": []
    },
    {
      "cell_type": "code",
      "source": [
        "def load_test_data(path):\n",
        "  with open(path, 'r', encoding='utf-8') as f:\n",
        "    data = json.load(f)\n",
        "    ids, tokens, tags = [], [], []\n",
        "    id = 0\n",
        "    for document in data['documents']:\n",
        "      for sentence in document['sentences']:\n",
        "        sentence_tokens = []\n",
        "        sentence_tags = []\n",
        "        for word in sentence['words']:\n",
        "          token = word['word']\n",
        "          tag = word['ner_1']\n",
        "\n",
        "          match tag:\n",
        "            case 'B-GPE':\n",
        "              tag = 'B-GEP'\n",
        "            case 'I-GPE':\n",
        "              tag = 'I-GEP'\n",
        "            case 'B-EVENT':\n",
        "              tag = 'B-EVE'\n",
        "            case 'I-EVENT':\n",
        "              tag = 'I-EVE'\n",
        "\n",
        "          if tag not in ALL_TAGS:\n",
        "            tag = 'O'\n",
        "\n",
        "          sentence_tokens.append(token)\n",
        "          sentence_tags.append(TAG2IDX[tag])\n",
        "\n",
        "\n",
        "        ids.append(id)\n",
        "        tokens.append(sentence_tokens)\n",
        "        tags.append(sentence_tags)\n",
        "        id += 1\n",
        "    return Dataset.from_dict({'id': ids, 'tokens': tokens, 'tags': tags})"
      ],
      "metadata": {
        "id": "75ppVtzsCLk-"
      },
      "execution_count": 3,
      "outputs": []
    },
    {
      "cell_type": "code",
      "source": [
        "estner_new = load_test_data('data/estner/EstNER_new_test.json')"
      ],
      "metadata": {
        "id": "a1ZC-m3nCc7y"
      },
      "execution_count": 4,
      "outputs": []
    },
    {
      "cell_type": "code",
      "source": [
        "estner_v1 = load_test_data('data/estner/EstNER_v1_test.json')"
      ],
      "metadata": {
        "id": "elahv1vyCflo"
      },
      "execution_count": 5,
      "outputs": []
    },
    {
      "cell_type": "code",
      "source": [
        "model = AutoModelForTokenClassification.from_pretrained('results/EstRoBERTa/combined/checkpoint-11268')\n",
        "bert_processor = BERTDataProcessor('results/EstRoBERTa/combined/checkpoint-11268')"
      ],
      "metadata": {
        "id": "3f1pR2ggCzR0"
      },
      "execution_count": 6,
      "outputs": []
    },
    {
      "cell_type": "code",
      "source": [
        "label2id = model.config.label2id\n",
        "def convert_to_model_id(example):\n",
        "  example['tags'] = [IDX2TAG[tag] for tag in example['tags']]\n",
        "  example['tags'] = [label2id.get(tag) for tag in example['tags']]\n",
        "  return example\n",
        "\n",
        "estner_new = estner_new.map(convert_to_model_id)\n",
        "estner_v1 = estner_v1.map(convert_to_model_id)\n",
        "\n",
        "estner_new = bert_processor.tokenize_dataset(estner_new)\n",
        "estner_v1 = bert_processor.tokenize_dataset(estner_v1)"
      ],
      "metadata": {
        "id": "Z_8TKQpPDUWr"
      },
      "execution_count": null,
      "outputs": []
    },
    {
      "cell_type": "code",
      "source": [
        "tags = [model.config.id2label[i] for i in range(len(model.config.id2label))]\n",
        "\n",
        "evaluator = BERTEvaluator(all_tags=tags)\n",
        "\n",
        "training_args = TrainingArguments(\n",
        "            report_to='none',\n",
        "            output_dir='./results',\n",
        "            #per_device_eval_batch_size=16\n",
        "        )\n",
        "trainer = Trainer(\n",
        "            model=model,\n",
        "            processing_class=bert_processor.tokenizer,\n",
        "            data_collator=bert_processor.data_collator,\n",
        "            compute_metrics=evaluator.compute_metrics,\n",
        "            args=training_args\n",
        "        )"
      ],
      "metadata": {
        "id": "Q-8AsNMYFJSJ"
      },
      "execution_count": null,
      "outputs": []
    },
    {
      "cell_type": "code",
      "source": [
        "estner_new_results = evaluator.evaluate_and_print(estner_new, trainer)"
      ],
      "metadata": {
        "colab": {
          "base_uri": "https://localhost:8080/",
          "height": 573
        },
        "id": "PMsjM37AFTvV",
        "outputId": "ebaa1218-5942-4ae1-cb3f-a814528f18ce"
      },
      "execution_count": 9,
      "outputs": [
        {
          "output_type": "stream",
          "name": "stdout",
          "text": [
            "Hindan testandmestikul..\n"
          ]
        },
        {
          "output_type": "display_data",
          "data": {
            "text/plain": [
              "<IPython.core.display.HTML object>"
            ],
            "text/html": []
          },
          "metadata": {}
        },
        {
          "output_type": "stream",
          "name": "stderr",
          "text": [
            "/usr/local/lib/python3.11/dist-packages/seqeval/metrics/v1.py:57: UndefinedMetricWarning: Recall and F-score are ill-defined and being set to 0.0 in labels with no true samples. Use `zero_division` parameter to control this behavior.\n",
            "  _warn_prf(average, modifier, msg_start, len(result))\n"
          ]
        },
        {
          "output_type": "stream",
          "name": "stdout",
          "text": [
            "Seqeval tulemused\n",
            "EVE {'precision': 0.3870967741935484, 'recall': 0.2, 'f1': 0.26373626373626374, 'number': 60}\n",
            "GEP {'precision': 0.8464566929133859, 'recall': 0.5180722891566265, 'f1': 0.6427503736920778, 'number': 415}\n",
            "LOC {'precision': 0.22406639004149378, 'recall': 0.5567010309278351, 'f1': 0.31952662721893493, 'number': 97}\n",
            "MUU {'precision': 0.0, 'recall': 0.0, 'f1': 0.0, 'number': 0}\n",
            "ORG {'precision': 0.7714285714285715, 'recall': 0.5983379501385041, 'f1': 0.6739469578783152, 'number': 361}\n",
            "PER {'precision': 0.9163498098859315, 'recall': 0.9060150375939849, 'f1': 0.9111531190926276, 'number': 532}\n",
            "PROD {'precision': 0.5088757396449705, 'recall': 0.23756906077348067, 'f1': 0.3239171374764595, 'number': 362}\n",
            "UNK {'precision': 0.0, 'recall': 0.0, 'f1': 0.0, 'number': 0}\n",
            "overall_precision 0.7071713147410359\n",
            "overall_recall 0.5829228243021346\n",
            "overall_f1 0.639063906390639\n",
            "overall_accuracy 0.9600480508408897\n",
            "\n",
            "Nervaluate tulemused\n",
            "Strict {'correct': 1065, 'incorrect': 418, 'partial': 0, 'missed': 344, 'spurious': 65, 'possible': 1827, 'actual': 1548, 'precision': 0.687984496124031, 'recall': 0.5829228243021346, 'f1': 0.6311111111111111}\n",
            "precision 0.687984496124031\n",
            "recall 0.5829228243021346\n",
            "f1 0.6311111111111111\n",
            "EVE {'correct': 12, 'incorrect': 3, 'partial': 0, 'missed': 45, 'spurious': 2, 'possible': 60, 'actual': 17, 'precision': 0.7058823529411765, 'recall': 0.2, 'f1': 0.3116883116883117}\n",
            "GEP {'correct': 215, 'incorrect': 194, 'partial': 0, 'missed': 6, 'spurious': 5, 'possible': 415, 'actual': 414, 'precision': 0.5193236714975845, 'recall': 0.5180722891566265, 'f1': 0.5186972255729796}\n",
            "LOC {'correct': 54, 'incorrect': 38, 'partial': 0, 'missed': 5, 'spurious': 3, 'possible': 97, 'actual': 95, 'precision': 0.5684210526315789, 'recall': 0.5567010309278351, 'f1': 0.5625}\n",
            "MUU {'correct': 0, 'incorrect': 0, 'partial': 0, 'missed': 0, 'spurious': 0, 'possible': 0, 'actual': 0, 'precision': 0, 'recall': 0, 'f1': 0}\n",
            "ORG {'correct': 216, 'incorrect': 89, 'partial': 0, 'missed': 56, 'spurious': 13, 'possible': 361, 'actual': 318, 'precision': 0.6792452830188679, 'recall': 0.5983379501385041, 'f1': 0.6362297496318114}\n",
            "PER {'correct': 482, 'incorrect': 43, 'partial': 0, 'missed': 7, 'spurious': 18, 'possible': 532, 'actual': 543, 'precision': 0.8876611418047882, 'recall': 0.9060150375939849, 'f1': 0.8967441860465115}\n",
            "PROD {'correct': 86, 'incorrect': 51, 'partial': 0, 'missed': 225, 'spurious': 24, 'possible': 362, 'actual': 161, 'precision': 0.5341614906832298, 'recall': 0.23756906077348067, 'f1': 0.3288718929254302}\n",
            "UNK {'correct': 0, 'incorrect': 0, 'partial': 0, 'missed': 0, 'spurious': 0, 'possible': 0, 'actual': 0, 'precision': 0, 'recall': 0, 'f1': 0}\n"
          ]
        }
      ]
    },
    {
      "cell_type": "code",
      "source": [
        "estner_v1_results = evaluator.evaluate_and_print(estner_v1, trainer)"
      ],
      "metadata": {
        "colab": {
          "base_uri": "https://localhost:8080/",
          "height": 537
        },
        "id": "4TAqExN4ImEd",
        "outputId": "9f394261-320b-4d60-d3f2-f069c5d7a927"
      },
      "execution_count": 10,
      "outputs": [
        {
          "output_type": "stream",
          "name": "stdout",
          "text": [
            "Hindan testandmestikul..\n"
          ]
        },
        {
          "output_type": "display_data",
          "data": {
            "text/plain": [
              "<IPython.core.display.HTML object>"
            ],
            "text/html": []
          },
          "metadata": {}
        },
        {
          "output_type": "stream",
          "name": "stdout",
          "text": [
            "Seqeval tulemused\n",
            "EVE {'precision': 0.4918032786885246, 'recall': 0.6976744186046512, 'f1': 0.5769230769230769, 'number': 43}\n",
            "GEP {'precision': 0.7857142857142857, 'recall': 0.6376811594202898, 'f1': 0.7039999999999998, 'number': 828}\n",
            "LOC {'precision': 0.26157407407407407, 'recall': 0.773972602739726, 'f1': 0.3910034602076124, 'number': 146}\n",
            "MUU {'precision': 0.0, 'recall': 0.0, 'f1': 0.0, 'number': 0}\n",
            "ORG {'precision': 0.7543859649122807, 'recall': 0.5025041736227045, 'f1': 0.6032064128256514, 'number': 1198}\n",
            "PER {'precision': 0.8880842659644503, 'recall': 0.9473314606741573, 'f1': 0.9167516139993204, 'number': 1424}\n",
            "PROD {'precision': 0.165, 'recall': 0.22758620689655173, 'f1': 0.19130434782608693, 'number': 145}\n",
            "UNK {'precision': 0.0, 'recall': 0.0, 'f1': 0.0, 'number': 0}\n",
            "overall_precision 0.7181498512307276\n",
            "overall_recall 0.7016384778012685\n",
            "overall_f1 0.709798155326828\n",
            "overall_accuracy 0.9609026001298155\n",
            "\n",
            "Nervaluate tulemused\n",
            "Strict {'correct': 2655, 'incorrect': 678, 'partial': 0, 'missed': 451, 'spurious': 420, 'possible': 3784, 'actual': 3753, 'precision': 0.7074340527577938, 'recall': 0.7016384778012685, 'f1': 0.7045243465569856}\n",
            "precision 0.7074340527577938\n",
            "recall 0.7016384778012685\n",
            "f1 0.7045243465569856\n",
            "EVE {'correct': 30, 'incorrect': 8, 'partial': 0, 'missed': 5, 'spurious': 14, 'possible': 43, 'actual': 52, 'precision': 0.5769230769230769, 'recall': 0.6976744186046512, 'f1': 0.631578947368421}\n",
            "GEP {'correct': 528, 'incorrect': 299, 'partial': 0, 'missed': 1, 'spurious': 87, 'possible': 828, 'actual': 914, 'precision': 0.5776805251641138, 'recall': 0.6376811594202898, 'f1': 0.606199770378875}\n",
            "LOC {'correct': 113, 'incorrect': 26, 'partial': 0, 'missed': 7, 'spurious': 40, 'possible': 146, 'actual': 179, 'precision': 0.6312849162011173, 'recall': 0.773972602739726, 'f1': 0.6953846153846153}\n",
            "MUU {'correct': 0, 'incorrect': 0, 'partial': 0, 'missed': 0, 'spurious': 1, 'possible': 0, 'actual': 1, 'precision': 0.0, 'recall': 0, 'f1': 0}\n",
            "ORG {'correct': 602, 'incorrect': 217, 'partial': 0, 'missed': 379, 'spurious': 95, 'possible': 1198, 'actual': 914, 'precision': 0.6586433260393874, 'recall': 0.5025041736227045, 'f1': 0.5700757575757576}\n",
            "PER {'correct': 1349, 'incorrect': 54, 'partial': 0, 'missed': 21, 'spurious': 113, 'possible': 1424, 'actual': 1516, 'precision': 0.8898416886543535, 'recall': 0.9473314606741573, 'f1': 0.917687074829932}\n",
            "PROD {'correct': 33, 'incorrect': 74, 'partial': 0, 'missed': 38, 'spurious': 56, 'possible': 145, 'actual': 163, 'precision': 0.20245398773006135, 'recall': 0.22758620689655173, 'f1': 0.21428571428571427}\n",
            "UNK {'correct': 0, 'incorrect': 0, 'partial': 0, 'missed': 0, 'spurious': 14, 'possible': 0, 'actual': 14, 'precision': 0.0, 'recall': 0, 'f1': 0}\n"
          ]
        }
      ]
    }
  ]
}