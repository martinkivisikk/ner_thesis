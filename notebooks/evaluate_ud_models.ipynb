{
  "nbformat": 4,
  "nbformat_minor": 0,
  "metadata": {
    "colab": {
      "provenance": [],
      "gpuType": "T4"
    },
    "kernelspec": {
      "name": "python3",
      "display_name": "Python 3"
    },
    "language_info": {
      "name": "python"
    },
    "accelerator": "GPU"
  },
  "cells": [
    {
      "cell_type": "code",
      "execution_count": null,
      "metadata": {
        "collapsed": true,
        "id": "cGLmb0zhKvZ_"
      },
      "outputs": [],
      "source": [
        "# Colabis kasutamiseks\n",
        "from google.colab import drive\n",
        "drive.mount('/content/drive')\n",
        "import os\n",
        "os.chdir('/content/drive/My Drive/Colab Notebooks/thesis/')\n",
        "\n",
        "!pip install seqeval\n",
        "!pip install nervaluate\n",
        "!pip install datasets\n",
        "!pip install evaluate\n",
        "!pip install estnltk"
      ]
    },
    {
      "cell_type": "code",
      "source": [
        "from modules.eval_functions import get_supported_entities, predict_tags, write_to_tsv, evaluation_to_json\n",
        "from modules.data_processing import DatasetProcessor\n",
        "from nervaluate import Evaluator"
      ],
      "metadata": {
        "id": "R5gUoBSpvsTD"
      },
      "execution_count": null,
      "outputs": []
    },
    {
      "cell_type": "code",
      "source": [
        "def evaluate_model(model_path, model_name, trained_on, evaluated_on, is_roberta_model=False):\n",
        "  if evaluated_on in ['edt', 'ewt']:\n",
        "    testset = DatasetProcessor(evaluated_on).test\n",
        "  else:\n",
        "    edt = DatasetProcessor('edt').dataset\n",
        "    ewt = DatasetProcessor('ewt').dataset\n",
        "    combined = DatasetProcessor.combine_datasetdicts(edt, ewt)\n",
        "    edt_test = edt['test']\n",
        "    ewt_test = ewt['test']\n",
        "    testset = combined['test']\n",
        "\n",
        "  supported_entities = get_supported_entities(model_path)\n",
        "\n",
        "  true_tags = [item['tags'] for item in testset]\n",
        "  pred_tags = predict_tags(model_path, testset, is_roberta_model)\n",
        "  assert len(true_tags) == len(pred_tags)\n",
        "\n",
        "  evaluator = Evaluator(true_tags, pred_tags, tags=list(supported_entities), loader='list')\n",
        "  results, results_by_tag, result_indices, result_indices_by_tag = evaluator.evaluate()\n",
        "\n",
        "  nervaluate_strict_overall = results['strict']\n",
        "  nervaluate_by_tag = results_by_tag\n",
        "  evaluation_to_json(nervaluate_strict_overall, nervaluate_by_tag, model_name, trained_on, evaluated_on, epochs=3)\n",
        "\n",
        "  sents = [item['tokens'] for item in testset]\n",
        "  write_to_tsv(sents, true_tags, pred_tags, model_name, evaluated_on)"
      ],
      "metadata": {
        "id": "8wiGoeMgREZX"
      },
      "execution_count": 3,
      "outputs": []
    },
    {
      "cell_type": "markdown",
      "source": [
        "EstBERT testimine"
      ],
      "metadata": {
        "id": "ciHrf_7ryuJL"
      }
    },
    {
      "cell_type": "code",
      "source": [
        "base_path = 'results/models/EstBERT'\n",
        "checkpoints = {\n",
        "    'edt': 'checkpoint-4614',\n",
        "    'ewt': 'checkpoint-1023',\n",
        "    'combined': 'checkpoint-5634'\n",
        "}\n",
        "folder_names = {\n",
        "    'edt': 'EDT',\n",
        "    'ewt': 'EWT',\n",
        "    'combined': 'Combined'\n",
        "}\n",
        "\n",
        "eval_combinations = [\n",
        "    ('edt', 'edt'),\n",
        "    ('ewt', 'ewt'),\n",
        "    ('combined', 'combined'),\n",
        "    ('combined', 'edt'),\n",
        "    ('combined', 'ewt'),\n",
        "]\n",
        "\n",
        "for trained_on, evaluated_on in eval_combinations:\n",
        "    ckpt = checkpoints[trained_on]\n",
        "    folder_name = folder_names[trained_on]\n",
        "    model_path = f'{base_path}/{folder_name}/trained_for_3/{ckpt}'\n",
        "    model_name = f'EstBERT_{folder_name}'\n",
        "    evaluate_model(model_path, model_name=model_name, trained_on=trained_on, evaluated_on=evaluated_on)"
      ],
      "metadata": {
        "colab": {
          "base_uri": "https://localhost:8080/"
        },
        "id": "ojzlYRp4xSth",
        "outputId": "a9e3ab36-029f-4b89-d85b-49c3a2e9109b"
      },
      "execution_count": 5,
      "outputs": [
        {
          "output_type": "stream",
          "name": "stderr",
          "text": [
            "Device set to use cuda:0\n",
            "Asking to truncate to max_length but no maximum length is provided and the model has no predefined maximum length. Default to no truncation.\n"
          ]
        },
        {
          "output_type": "stream",
          "name": "stdout",
          "text": [
            "Salvestasin: results/EstBERT_EDT/eval_on_edt_test_2025-17-04_12-47.json\n"
          ]
        },
        {
          "output_type": "stream",
          "name": "stderr",
          "text": [
            "Device set to use cuda:0\n",
            "Asking to truncate to max_length but no maximum length is provided and the model has no predefined maximum length. Default to no truncation.\n"
          ]
        },
        {
          "output_type": "stream",
          "name": "stdout",
          "text": [
            "Salvestasin: results/EstBERT_EWT/eval_on_ewt_test_2025-17-04_12-47.json\n"
          ]
        },
        {
          "output_type": "stream",
          "name": "stderr",
          "text": [
            "Device set to use cuda:0\n",
            "Asking to truncate to max_length but no maximum length is provided and the model has no predefined maximum length. Default to no truncation.\n"
          ]
        },
        {
          "output_type": "stream",
          "name": "stdout",
          "text": [
            "Salvestasin: results/EstBERT_Combined/eval_on_combined_test_2025-17-04_12-49.json\n"
          ]
        },
        {
          "output_type": "stream",
          "name": "stderr",
          "text": [
            "Device set to use cuda:0\n",
            "Asking to truncate to max_length but no maximum length is provided and the model has no predefined maximum length. Default to no truncation.\n"
          ]
        },
        {
          "output_type": "stream",
          "name": "stdout",
          "text": [
            "Salvestasin: results/EstBERT_Combined/eval_on_edt_test_2025-17-04_12-49.json\n"
          ]
        },
        {
          "output_type": "stream",
          "name": "stderr",
          "text": [
            "Device set to use cuda:0\n",
            "Asking to truncate to max_length but no maximum length is provided and the model has no predefined maximum length. Default to no truncation.\n"
          ]
        },
        {
          "output_type": "stream",
          "name": "stdout",
          "text": [
            "Salvestasin: results/EstBERT_Combined/eval_on_ewt_test_2025-17-04_12-49.json\n"
          ]
        }
      ]
    },
    {
      "cell_type": "markdown",
      "source": [
        "Est-RoBERTa testimine"
      ],
      "metadata": {
        "id": "5CthGBxEyq2X"
      }
    },
    {
      "cell_type": "code",
      "source": [
        "base_path = 'results/models/est-roberta'\n",
        "checkpoints = {\n",
        "    'edt': 'checkpoint-4614',\n",
        "    'ewt': 'checkpoint-682',\n",
        "    'combined': 'checkpoint-5634'\n",
        "}\n",
        "folder_names = {\n",
        "    'edt': 'EDT',\n",
        "    'ewt': 'EWT',\n",
        "    'combined': 'Combined'\n",
        "}\n",
        "\n",
        "eval_combinations = [\n",
        "    ('edt', 'edt'),\n",
        "    ('ewt', 'ewt'),\n",
        "    ('combined', 'combined'),\n",
        "    ('combined', 'edt'),\n",
        "    ('combined', 'ewt'),\n",
        "]\n",
        "\n",
        "for trained_on, evaluated_on in eval_combinations:\n",
        "    ckpt = checkpoints[trained_on]\n",
        "    folder_name = folder_names[trained_on]\n",
        "    model_path = f'{base_path}/{folder_name}/trained_for_3/{ckpt}'\n",
        "    model_name = f'est-roberta_{folder_name}'\n",
        "    evaluate_model(model_path, model_name=model_name, trained_on=trained_on, evaluated_on=evaluated_on, is_roberta_model=True)"
      ],
      "metadata": {
        "colab": {
          "base_uri": "https://localhost:8080/"
        },
        "id": "-IuILbdDxav3",
        "outputId": "f59f617f-e4f2-42c1-86ce-401a7fa7036c"
      },
      "execution_count": 6,
      "outputs": [
        {
          "output_type": "stream",
          "name": "stderr",
          "text": [
            "Device set to use cuda:0\n"
          ]
        },
        {
          "output_type": "stream",
          "name": "stdout",
          "text": [
            "Salvestasin: results/est-roberta_EDT/eval_on_edt_test_2025-17-04_12-51.json\n"
          ]
        },
        {
          "output_type": "stream",
          "name": "stderr",
          "text": [
            "Device set to use cuda:0\n"
          ]
        },
        {
          "output_type": "stream",
          "name": "stdout",
          "text": [
            "Salvestasin: results/est-roberta_EWT/eval_on_ewt_test_2025-17-04_12-52.json\n"
          ]
        },
        {
          "output_type": "stream",
          "name": "stderr",
          "text": [
            "Device set to use cuda:0\n"
          ]
        },
        {
          "output_type": "stream",
          "name": "stdout",
          "text": [
            "Salvestasin: results/est-roberta_Combined/eval_on_combined_test_2025-17-04_12-53.json\n"
          ]
        },
        {
          "output_type": "stream",
          "name": "stderr",
          "text": [
            "Device set to use cuda:0\n"
          ]
        },
        {
          "output_type": "stream",
          "name": "stdout",
          "text": [
            "Salvestasin: results/est-roberta_Combined/eval_on_edt_test_2025-17-04_12-54.json\n"
          ]
        },
        {
          "output_type": "stream",
          "name": "stderr",
          "text": [
            "Device set to use cuda:0\n"
          ]
        },
        {
          "output_type": "stream",
          "name": "stdout",
          "text": [
            "Salvestasin: results/est-roberta_Combined/eval_on_ewt_test_2025-17-04_12-54.json\n"
          ]
        }
      ]
    }
  ]
}