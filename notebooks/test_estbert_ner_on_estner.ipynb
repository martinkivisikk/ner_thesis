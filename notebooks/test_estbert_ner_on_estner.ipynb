{
 "cells": [
  {
   "cell_type": "code",
   "execution_count": 47,
   "id": "d570d0a0-0175-4bc3-b9cc-e82bdeb8c5df",
   "metadata": {},
   "outputs": [],
   "source": [
    "from datasets import load_dataset, Dataset\n",
    "try:\n",
    "    from modules.eval_functions import get_supported_entities, predict_tags, write_to_tsv, evaluation_to_json\n",
    "except:\n",
    "    import os\n",
    "    print(f\"Ei leidnud modules kausta, liigun {os.getcwd()} kaustast välja\")\n",
    "    os.chdir('..')\n",
    "    from modules.eval_functions import get_supported_entities, predict_tags, write_to_tsv, evaluation_to_json\n",
    "from nervaluate import Evaluator"
   ]
  },
  {
   "cell_type": "code",
   "execution_count": 34,
   "id": "c6b580b5-966f-404b-981b-b1373ce9f0d2",
   "metadata": {},
   "outputs": [],
   "source": [
    "def load_test_data(data_path):\n",
    "    if data_path.lower() in [\"estner-new\", \"estner-reannotated\"]:\n",
    "        ds = load_dataset(\"tartuNLP/EstNER\", data_path)\n",
    "        test_data = ds['test']\n",
    "        return test_data\n",
    "    else:\n",
    "        print(\"load_test_data toetatud sisendid on 'estner-new' ja 'estner-reannotated'\")"
   ]
  },
  {
   "cell_type": "code",
   "execution_count": 67,
   "id": "af8fc60c-b393-49c4-a0fe-dc86378a9fe7",
   "metadata": {},
   "outputs": [],
   "source": [
    "def convert_tags_to_supported(data, supported_entities):\n",
    "    converted = []\n",
    "\n",
    "    for item in data:\n",
    "        converted_item = item.copy()\n",
    "        tags = item['ner_tags']\n",
    "        \n",
    "        new_tags = []\n",
    "        for tag in tags:\n",
    "            if tag == 'O':\n",
    "                new_tags.append(tag)\n",
    "                continue\n",
    "\n",
    "            entity_type = tag[2:] if tag.startswith(('B-', 'I-')) else tag\n",
    "            prefix = tag[:2] if tag.startswith(('B-', 'I-')) else None\n",
    "    \n",
    "            if entity_type in supported_entities:\n",
    "                new_tags.append(tag)\n",
    "            elif entity_type == 'GPE':\n",
    "                new_tags.append(f\"{prefix}LOC\")\n",
    "            else:\n",
    "                new_tags.append('O')\n",
    "\n",
    "        converted_item['tags'] = new_tags\n",
    "        converted.append(converted_item)\n",
    "\n",
    "    return Dataset.from_list(converted)"
   ]
  },
  {
   "cell_type": "code",
   "execution_count": 85,
   "id": "c4f027d3-38a8-423a-b904-1eaa3e960e49",
   "metadata": {},
   "outputs": [],
   "source": [
    "def evaluate_model(data_path, model_path, model_name, trained_on, evaluated_on):\n",
    "  data = load_test_data(data_path)\n",
    "  supported_entities = get_supported_entities(model_path)\n",
    "  converted_data = convert_tags_to_supported(data, supported_entities)\n",
    "\n",
    "  true_tags = [item['tags'] for item in converted_data]\n",
    "  pred_tags = predict_tags(model_path, converted_data)\n",
    "  #pred_tags = clean_predictions(pred_tags)\n",
    "  assert len(true_tags) == len(pred_tags)\n",
    "\n",
    "  evaluator = Evaluator(true_tags, pred_tags, tags=list(supported_entities), loader='list')\n",
    "  results, results_by_tag, result_indices, result_indices_by_tag = evaluator.evaluate()\n",
    "\n",
    "  nervaluate_strict_overall = results['strict']\n",
    "  nervaluate_by_tag = results_by_tag\n",
    "  evaluation_to_json(nervaluate_strict_overall, nervaluate_by_tag, model_name, trained_on, evaluated_on)\n",
    "\n",
    "  sents = [item['tokens'] for item in converted_data]\n",
    "  write_to_tsv(sents, true_tags, pred_tags, model_name, evaluated_on)"
   ]
  },
  {
   "cell_type": "code",
   "execution_count": 89,
   "id": "35e4cf60-aa09-45c4-8c97-10e955ca1e83",
   "metadata": {},
   "outputs": [
    {
     "name": "stderr",
     "output_type": "stream",
     "text": [
      "Device set to use cuda:0\n",
      "Asking to truncate to max_length but no maximum length is provided and the model has no predefined maximum length. Default to no truncation.\n"
     ]
    },
    {
     "name": "stdout",
     "output_type": "stream",
     "text": [
      "Salvestasin: results/EstBERT_NER_V2/eval_on_estner-reannotated_test_2025-07-05_15-27.json\n"
     ]
    }
   ],
   "source": [
    "evaluate_model('estner-reannotated', 'tartuNLP/EstBERT_NER_V2', 'EstBERT_NER_V2', 'EstNER_V1+EstNER_new', 'estner-reannotated')"
   ]
  },
  {
   "cell_type": "code",
   "execution_count": 90,
   "id": "68232142-e6a3-4dd0-93e4-f8d189ea4bf9",
   "metadata": {},
   "outputs": [
    {
     "name": "stderr",
     "output_type": "stream",
     "text": [
      "Device set to use cuda:0\n",
      "Asking to truncate to max_length but no maximum length is provided and the model has no predefined maximum length. Default to no truncation.\n"
     ]
    },
    {
     "name": "stdout",
     "output_type": "stream",
     "text": [
      "Salvestasin: results/EstBERT_NER_V2/eval_on_estner-new_test_2025-07-05_15-28.json\n"
     ]
    }
   ],
   "source": [
    "evaluate_model('estner-new', 'tartuNLP/EstBERT_NER_V2', 'EstBERT_NER_V2', 'EstNER_V1+EstNER_new', 'estner-new')"
   ]
  },
  {
   "cell_type": "markdown",
   "id": "04a0a853",
   "metadata": {},
   "source": [
    "Testimine"
   ]
  },
  {
   "cell_type": "code",
   "execution_count": 74,
   "id": "cd37d4b6-21e1-40d1-aa14-16e053469980",
   "metadata": {},
   "outputs": [
    {
     "name": "stdout",
     "output_type": "stream",
     "text": [
      "{'MONEY', 'DATE', 'PER', 'ORG', 'TIME', 'TITLE', 'EVENT', 'PERCENT', 'PROD', 'LOC', 'GPE'}\n"
     ]
    }
   ],
   "source": [
    "v1_test = load_test_data(\"estner-reannotated\")\n",
    "supported = get_supported_entities('tartuNLP/EstBERT_NER_V2')\n",
    "print(supported)\n",
    "v1_converted = convert_tags_to_supported(v1_test, supported)"
   ]
  },
  {
   "cell_type": "code",
   "execution_count": 83,
   "id": "a5554ff4-69e7-4a48-aeb8-a0b06b5f0a7c",
   "metadata": {},
   "outputs": [
    {
     "data": {
      "text/plain": [
       "{'doc_id': '2babd3b4-e24c-4867-914a-5f8ae455be90',\n",
       " 'sent_id': 0,\n",
       " 'tokens': ['Slovakkia', 'peab', 'Ungari', 'argumente', 'alusetuks'],\n",
       " 'ner_tags': ['B-GPE', 'O', 'B-GPE', 'O', 'O'],\n",
       " 'ner_tags_2': ['O', 'O', 'O', 'O', 'O'],\n",
       " 'ner_tags_3': ['O', 'O', 'O', 'O', 'O'],\n",
       " 'tags': ['B-GPE', 'O', 'B-GPE', 'O', 'O']}"
      ]
     },
     "execution_count": 83,
     "metadata": {},
     "output_type": "execute_result"
    }
   ],
   "source": [
    "v1_converted[0]"
   ]
  },
  {
   "cell_type": "code",
   "execution_count": 77,
   "id": "966d6584-d564-4b54-92a2-1b317d0f9314",
   "metadata": {},
   "outputs": [
    {
     "data": {
      "application/vnd.jupyter.widget-view+json": {
       "model_id": "f0b90e16e48c402c8dcb80f9f1ff1f2a",
       "version_major": 2,
       "version_minor": 0
      },
      "text/plain": [
       "model.safetensors:  13%|#2        | 62.9M/496M [00:00<?, ?B/s]"
      ]
     },
     "metadata": {},
     "output_type": "display_data"
    },
    {
     "data": {
      "application/vnd.jupyter.widget-view+json": {
       "model_id": "a58c9d3d143a45da9278e83d05dfdb60",
       "version_major": 2,
       "version_minor": 0
      },
      "text/plain": [
       "tokenizer_config.json:   0%|          | 0.00/372 [00:00<?, ?B/s]"
      ]
     },
     "metadata": {},
     "output_type": "display_data"
    },
    {
     "data": {
      "application/vnd.jupyter.widget-view+json": {
       "model_id": "281ba571ff9c4fc79a782912f57fb7e3",
       "version_major": 2,
       "version_minor": 0
      },
      "text/plain": [
       "vocab.txt:   0%|          | 0.00/410k [00:00<?, ?B/s]"
      ]
     },
     "metadata": {},
     "output_type": "display_data"
    },
    {
     "data": {
      "application/vnd.jupyter.widget-view+json": {
       "model_id": "3a30a67db7bd47a7bbdc4d8611fefa19",
       "version_major": 2,
       "version_minor": 0
      },
      "text/plain": [
       "special_tokens_map.json:   0%|          | 0.00/112 [00:00<?, ?B/s]"
      ]
     },
     "metadata": {},
     "output_type": "display_data"
    },
    {
     "name": "stderr",
     "output_type": "stream",
     "text": [
      "Device set to use cuda:0\n",
      "Asking to truncate to max_length but no maximum length is provided and the model has no predefined maximum length. Default to no truncation.\n"
     ]
    }
   ],
   "source": [
    "pred_tags = predict_tags('tartuNLP/EstBERT_NER_V2', v1_converted)"
   ]
  },
  {
   "cell_type": "code",
   "execution_count": 53,
   "id": "f73e77d3-fe90-48b6-8287-80686e9750e2",
   "metadata": {},
   "outputs": [
    {
     "data": {
      "text/plain": [
       "['B-LOC', 'O', 'B-LOC', 'O', 'O']"
      ]
     },
     "execution_count": 53,
     "metadata": {},
     "output_type": "execute_result"
    }
   ],
   "source": [
    "pred_tags[0]"
   ]
  },
  {
   "cell_type": "code",
   "execution_count": 78,
   "id": "5c0187ac-7f3d-4da8-8931-3304b1e05be2",
   "metadata": {},
   "outputs": [],
   "source": [
    "true_tags = [item['tags'] for item in v1_converted]\n",
    "assert len(true_tags) == len(pred_tags)"
   ]
  },
  {
   "cell_type": "code",
   "execution_count": 79,
   "id": "1cdda144-77a7-4618-9f6e-d22f947d9dae",
   "metadata": {},
   "outputs": [],
   "source": [
    "evaluator = Evaluator(true_tags, pred_tags, tags=list(supported), loader='list')\n",
    "results, results_by_tag, result_indices, result_indices_by_tag = evaluator.evaluate()"
   ]
  },
  {
   "cell_type": "code",
   "execution_count": 82,
   "id": "51213678-14a3-47dc-9608-e0811fc3ae87",
   "metadata": {},
   "outputs": [
    {
     "name": "stdout",
     "output_type": "stream",
     "text": [
      "MONEY 0.7058823529411764\n",
      "\n",
      "DATE 0.706199460916442\n",
      "\n",
      "PER 0.9011432414256892\n",
      "\n",
      "ORG 0.704119850187266\n",
      "\n",
      "TIME 0.5573770491803278\n",
      "\n",
      "TITLE 0.7954022988505747\n",
      "\n",
      "EVENT 0.28571428571428575\n",
      "\n",
      "PERCENT 0.94017094017094\n",
      "\n",
      "PROD 0.5285714285714286\n",
      "\n",
      "LOC 0.5528455284552846\n",
      "\n",
      "GPE 0.8680000000000001\n",
      "\n",
      "{'correct': 2028, 'incorrect': 219, 'partial': 0, 'missed': 275, 'spurious': 340, 'possible': 2522, 'actual': 2587, 'precision': 0.7839195979899497, 'recall': 0.8041237113402062, 'f1': 0.7938931297709924}\n"
     ]
    }
   ],
   "source": [
    "for tag in results_by_tag:\n",
    "    print(tag, results_by_tag[tag]['strict']['f1'])\n",
    "    print()\n",
    "\n",
    "print(results['strict'])"
   ]
  }
 ],
 "metadata": {
  "kernelspec": {
   "display_name": "Python 3 (ipykernel)",
   "language": "python",
   "name": "python3"
  },
  "language_info": {
   "codemirror_mode": {
    "name": "ipython",
    "version": 3
   },
   "file_extension": ".py",
   "mimetype": "text/x-python",
   "name": "python",
   "nbconvert_exporter": "python",
   "pygments_lexer": "ipython3",
   "version": "3.13.3"
  }
 },
 "nbformat": 4,
 "nbformat_minor": 5
}
